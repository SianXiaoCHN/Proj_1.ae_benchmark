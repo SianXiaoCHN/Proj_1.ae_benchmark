{
 "cells": [
  {
   "cell_type": "code",
   "execution_count": 1,
   "metadata": {},
   "outputs": [],
   "source": [
    "import numpy as np\n",
    "from sklearn.preprocessing import MinMaxScaler\n",
    "from models import vae\n",
    "from sklearn.decomposition import PCA\n",
    "import sys"
   ]
  },
  {
   "cell_type": "code",
   "execution_count": 2,
   "metadata": {},
   "outputs": [],
   "source": [
    "########## Define Parameters ##########"
   ]
  },
  {
   "cell_type": "code",
   "execution_count": 3,
   "metadata": {},
   "outputs": [],
   "source": [
    "LAYERS = 4\n",
    "EPOCHS = 200\n",
    "BATCH_SIZE = 256\n",
    "template_file = '../data/pdbs/ubq.pdb'"
   ]
  },
  {
   "cell_type": "code",
   "execution_count": 4,
   "metadata": {},
   "outputs": [],
   "source": [
    "########## Data Source ##########"
   ]
  },
  {
   "cell_type": "code",
   "execution_count": 5,
   "metadata": {},
   "outputs": [
    {
     "data": {
      "text/plain": [
       "(20000, 1806)"
      ]
     },
     "execution_count": 5,
     "metadata": {},
     "output_type": "execute_result"
    }
   ],
   "source": [
    "# load data\n",
    "data = np.load(\"../data/features/ubq.npz\")\n",
    "coor_encode = data['coor'][::4]  # use every frame from the data\n",
    "coor_encode.shape"
   ]
  },
  {
   "cell_type": "code",
   "execution_count": 6,
   "metadata": {},
   "outputs": [],
   "source": [
    "# scale data\n",
    "scaler = MinMaxScaler()\n",
    "coor_encode_scaled = scaler.fit_transform(coor_encode)"
   ]
  },
  {
   "cell_type": "code",
   "execution_count": 7,
   "metadata": {},
   "outputs": [],
   "source": [
    "########## Build VAE ##########"
   ]
  },
  {
   "cell_type": "code",
   "execution_count": 94,
   "metadata": {},
   "outputs": [
    {
     "name": "stdout",
     "output_type": "stream",
     "text": [
      "Model: \"model_14\"\n",
      "__________________________________________________________________________________________________\n",
      "Layer (type)                    Output Shape         Param #     Connected to                     \n",
      "==================================================================================================\n",
      "input_15 (InputLayer)           [(None, 1806)]       0                                            \n",
      "__________________________________________________________________________________________________\n",
      "dense_77 (Dense)                (None, 512)          925184      input_15[0][0]                   \n",
      "__________________________________________________________________________________________________\n",
      "dense_78 (Dense)                (None, 128)          65664       dense_77[0][0]                   \n",
      "__________________________________________________________________________________________________\n",
      "dense_79 (Dense)                (None, 32)           4128        dense_78[0][0]                   \n",
      "__________________________________________________________________________________________________\n",
      "dense_80 (Dense)                (None, 8)            264         dense_79[0][0]                   \n",
      "__________________________________________________________________________________________________\n",
      "dense_81 (Dense)                (None, 2)            18          dense_80[0][0]                   \n",
      "__________________________________________________________________________________________________\n",
      "dense_82 (Dense)                (None, 2)            18          dense_80[0][0]                   \n",
      "__________________________________________________________________________________________________\n",
      "lambda_7 (Lambda)               (None, 2)            0           dense_81[0][0]                   \n",
      "                                                                 dense_82[0][0]                   \n",
      "==================================================================================================\n",
      "Total params: 995,276\n",
      "Trainable params: 995,276\n",
      "Non-trainable params: 0\n",
      "__________________________________________________________________________________________________\n",
      "None\n"
     ]
    }
   ],
   "source": [
    "# hidden layers\n",
    "hidden_layers = [2]\n",
    "while len(hidden_layers) <= LAYERS:\n",
    "    hidden_layers.append(hidden_layers[-1] * 4\n",
    "                         if hidden_layers[-1] * 4 <= coor_encode_scaled.shape[1]\n",
    "                         else coor_encode_scaled.shape[1])\n",
    "hidden_layers = hidden_layers[::-1]\n",
    "hidden_layers.pop()\n",
    "hidden_layers\n",
    "input_dim = (coor_encode_scaled.shape[1],)\n",
    "encoder_1, decoder_1, model_1 = vae.build_vae(input_dim, hidden_layers, latent_dim=2)\n",
    "print(encoder_1.summary())"
   ]
  },
  {
   "cell_type": "code",
   "execution_count": 95,
   "metadata": {},
   "outputs": [
    {
     "name": "stdout",
     "output_type": "stream",
     "text": [
      "CPU times: user 1min 48s, sys: 20.9 s, total: 2min 8s\n",
      "Wall time: 1min 4s\n"
     ]
    }
   ],
   "source": [
    "%%time\n",
    "history_1 = model_1.fit(\n",
    "    x=coor_encode_scaled,\n",
    "    y=coor_encode_scaled,\n",
    "    shuffle=True,\n",
    "    epochs=EPOCHS,\n",
    "    verbose=0,\n",
    "    batch_size=BATCH_SIZE)"
   ]
  },
  {
   "cell_type": "code",
   "execution_count": 96,
   "metadata": {},
   "outputs": [
    {
     "data": {
      "image/png": "[encoded data removed]",
      "text/plain": [
       "<Figure size 432x288 with 1 Axes>"
      ]
     },
     "metadata": {
      "needs_background": "light"
     },
     "output_type": "display_data"
    }
   ],
   "source": [
    "import matplotlib.pyplot as plt\n",
    "plt.plot(list(range(1,len(history_1.history['loss'])+1)), [x/1806 for x in history_1.history['loss']])\n",
    "plt.show()"
   ]
  },
  {
   "cell_type": "code",
   "execution_count": 97,
   "metadata": {},
   "outputs": [
    {
     "data": {
      "text/plain": [
       "(20000, 2)"
      ]
     },
     "execution_count": 97,
     "metadata": {},
     "output_type": "execute_result"
    }
   ],
   "source": [
    "data_latent_1 = encoder_1.predict(coor_encode_scaled)[0]\n",
    "data_latent_1.shape"
   ]
  },
  {
   "cell_type": "code",
   "execution_count": 98,
   "metadata": {},
   "outputs": [
    {
     "data": {
      "text/plain": [
       "array([[-0.70025223, -0.27503526],\n",
       "       [-0.555851  , -0.45866656],\n",
       "       [-0.5799091 , -0.36370456],\n",
       "       [ 0.02617984,  0.2316932 ],\n",
       "       [-0.02839619,  0.23888268],\n",
       "       [-0.05034692,  0.09420563],\n",
       "       [-0.03877599,  0.21892546],\n",
       "       [ 0.05531233,  0.1951238 ],\n",
       "       [ 0.10816102,  0.17618383],\n",
       "       [ 0.16185707,  0.13502933]], dtype=float32)"
      ]
     },
     "execution_count": 98,
     "metadata": {},
     "output_type": "execute_result"
    }
   ],
   "source": [
    "data_latent_1[:10]"
   ]
  },
  {
   "cell_type": "code",
   "execution_count": 99,
   "metadata": {
    "scrolled": true
   },
   "outputs": [
    {
     "data": {
      "text/plain": [
       "(20000, 1806)"
      ]
     },
     "execution_count": 99,
     "metadata": {},
     "output_type": "execute_result"
    }
   ],
   "source": [
    "coor_decode_scaled_1 = decoder_1(data_latent_1).numpy()\n",
    "coor_decode_scaled_1.shape"
   ]
  },
  {
   "cell_type": "code",
   "execution_count": 100,
   "metadata": {},
   "outputs": [
    {
     "data": {
      "text/plain": [
       "(20000, 1806)"
      ]
     },
     "execution_count": 100,
     "metadata": {},
     "output_type": "execute_result"
    }
   ],
   "source": [
    "coor_decode_1 = scaler.inverse_transform(coor_decode_scaled_1)\n",
    "coor_decode_1.shape"
   ]
  },
  {
   "cell_type": "code",
   "execution_count": 101,
   "metadata": {},
   "outputs": [
    {
     "name": "stdout",
     "output_type": "stream",
     "text": [
      "CPU times: user 154 ms, sys: 124 ms, total: 278 ms\n",
      "Wall time: 275 ms\n"
     ]
    },
    {
     "data": {
      "text/plain": [
       "(20000,)"
      ]
     },
     "execution_count": 101,
     "metadata": {},
     "output_type": "execute_result"
    }
   ],
   "source": [
    "%%time\n",
    "rmsd_1 = np.sqrt(\n",
    "    np.sum(\n",
    "        np.square(\n",
    "            coor_decode_1 * 10 - coor_encode * 10\n",
    "        ), axis=1\n",
    "    ) / (coor_encode.shape[1] // 3)\n",
    ")\n",
    "rmsd_1.shape"
   ]
  },
  {
   "cell_type": "code",
   "execution_count": 102,
   "metadata": {},
   "outputs": [
    {
     "data": {
      "text/plain": [
       "(2.1078074, 0.5950581, 1.1005739, 1.1209904, 0.18591036)"
      ]
     },
     "execution_count": 102,
     "metadata": {},
     "output_type": "execute_result"
    }
   ],
   "source": [
    "rmsd_1.max(), rmsd_1.min(), np.median(rmsd_1), rmsd_1.mean(), rmsd_1.std()"
   ]
  },
  {
   "cell_type": "code",
   "execution_count": 103,
   "metadata": {},
   "outputs": [
    {
     "data": {
      "image/png": "[encoded data removed]",
      "text/plain": [
       "<Figure size 432x288 with 1 Axes>"
      ]
     },
     "metadata": {
      "needs_background": "light"
     },
     "output_type": "display_data"
    }
   ],
   "source": [
    "plt.scatter(data_latent_1[:,0], data_latent_1[:,1], s=0.01)\n",
    "plt.show()"
   ]
  },
  {
   "cell_type": "code",
   "execution_count": 135,
   "metadata": {},
   "outputs": [
    {
     "data": {
      "text/plain": [
       "0.49694146397388794"
      ]
     },
     "execution_count": 135,
     "metadata": {},
     "output_type": "execute_result"
    }
   ],
   "source": [
    "statistics.variance(data_latent_1[:,0].tolist())"
   ]
  },
  {
   "cell_type": "code",
   "execution_count": 136,
   "metadata": {},
   "outputs": [
    {
     "data": {
      "text/plain": [
       "0.5117081569505254"
      ]
     },
     "execution_count": 136,
     "metadata": {},
     "output_type": "execute_result"
    }
   ],
   "source": [
    "statistics.variance(data_latent_1[:,1].tolist())"
   ]
  },
  {
   "cell_type": "code",
   "execution_count": null,
   "metadata": {},
   "outputs": [],
   "source": []
  },
  {
   "cell_type": "code",
   "execution_count": 20,
   "metadata": {},
   "outputs": [],
   "source": [
    "########## Build VAE ##########"
   ]
  },
  {
   "cell_type": "code",
   "execution_count": 21,
   "metadata": {},
   "outputs": [
    {
     "data": {
      "text/plain": [
       "[1024, 256, 64, 16]"
      ]
     },
     "execution_count": 21,
     "metadata": {},
     "output_type": "execute_result"
    }
   ],
   "source": [
    "# hidden layers\n",
    "hidden_layers = [4]\n",
    "while len(hidden_layers) <= LAYERS:\n",
    "    hidden_layers.append(hidden_layers[-1] * 4\n",
    "                         if hidden_layers[-1] * 4 <= coor_encode_scaled.shape[1]\n",
    "                         else coor_encode_scaled.shape[1])\n",
    "hidden_layers = hidden_layers[::-1]\n",
    "hidden_layers.pop()\n",
    "hidden_layers\n",
    "input_dim = (coor_encode_scaled.shape[1],)\n",
    "encoder_2, decoder_2, model_2 = vae.build_vae(input_dim, hidden_layers, latent_dim=4)\n",
    "print(encoder_2.summary())"
   ]
  },
  {
   "cell_type": "code",
   "execution_count": 24,
   "metadata": {},
   "outputs": [
    {
     "name": "stdout",
     "output_type": "stream",
     "text": [
      "CPU times: user 1min 48s, sys: 21.8 s, total: 2min 10s\n",
      "Wall time: 1min 5s\n"
     ]
    }
   ],
   "source": [
    "%%time\n",
    "history_2 = model_2.fit(\n",
    "    x=coor_encode_scaled,\n",
    "    y=coor_encode_scaled,\n",
    "    shuffle=True,\n",
    "    epochs=EPOCHS,\n",
    "    verbose=0,\n",
    "    batch_size=BATCH_SIZE)"
   ]
  },
  {
   "cell_type": "code",
   "execution_count": 25,
   "metadata": {},
   "outputs": [
    {
     "data": {
      "image/png": "[encoded data removed]",
      "text/plain": [
       "<Figure size 432x288 with 1 Axes>"
      ]
     },
     "metadata": {
      "needs_background": "light"
     },
     "output_type": "display_data"
    }
   ],
   "source": [
    "import matplotlib.pyplot as plt\n",
    "plt.plot(list(range(1,len(history_2.history['loss'])+1)), [x/1806 for x in history_2.history['loss']])\n",
    "plt.show()"
   ]
  },
  {
   "cell_type": "code",
   "execution_count": 26,
   "metadata": {},
   "outputs": [
    {
     "data": {
      "text/plain": [
       "(20000, 4)"
      ]
     },
     "execution_count": 26,
     "metadata": {},
     "output_type": "execute_result"
    }
   ],
   "source": [
    "data_latent_2 = encoder_2.predict(coor_encode_scaled)[0]\n",
    "data_latent_2.shape"
   ]
  },
  {
   "cell_type": "code",
   "execution_count": 27,
   "metadata": {},
   "outputs": [
    {
     "data": {
      "text/plain": [
       "array([[ 0.00425222,  0.00398343, -0.5590763 , -0.01463479],\n",
       "       [ 0.00350997,  0.00367815, -0.4855954 ,  0.06900708],\n",
       "       [ 0.00386908,  0.00323127, -0.43729293,  0.02149516],\n",
       "       [ 0.00399213,  0.0038385 , -0.20156693,  0.01008755],\n",
       "       [ 0.00448383,  0.00137666, -0.14557153, -0.08238578],\n",
       "       [ 0.00386092,  0.00358917, -0.1757654 ,  0.02595103],\n",
       "       [ 0.00493364,  0.00190642, -0.15250522, -0.12584656],\n",
       "       [ 0.00400994,  0.00353682, -0.13060617,  0.00649041],\n",
       "       [ 0.00395006,  0.00296889, -0.3127421 ,  0.00729394],\n",
       "       [ 0.00368297,  0.00239249, -0.23536038,  0.03021172]],\n",
       "      dtype=float32)"
      ]
     },
     "execution_count": 27,
     "metadata": {},
     "output_type": "execute_result"
    }
   ],
   "source": [
    "data_latent_2[:10]"
   ]
  },
  {
   "cell_type": "code",
   "execution_count": 28,
   "metadata": {
    "scrolled": true
   },
   "outputs": [
    {
     "data": {
      "text/plain": [
       "(20000, 1806)"
      ]
     },
     "execution_count": 28,
     "metadata": {},
     "output_type": "execute_result"
    }
   ],
   "source": [
    "coor_decode_scaled_2 = decoder_2(data_latent_2).numpy()\n",
    "coor_decode_scaled_2.shape"
   ]
  },
  {
   "cell_type": "code",
   "execution_count": 29,
   "metadata": {},
   "outputs": [
    {
     "data": {
      "text/plain": [
       "(20000, 1806)"
      ]
     },
     "execution_count": 29,
     "metadata": {},
     "output_type": "execute_result"
    }
   ],
   "source": [
    "coor_decode_2 = scaler.inverse_transform(coor_decode_scaled_2)\n",
    "coor_decode_2.shape"
   ]
  },
  {
   "cell_type": "code",
   "execution_count": 30,
   "metadata": {},
   "outputs": [
    {
     "name": "stdout",
     "output_type": "stream",
     "text": [
      "CPU times: user 148 ms, sys: 134 ms, total: 282 ms\n",
      "Wall time: 279 ms\n"
     ]
    },
    {
     "data": {
      "text/plain": [
       "(20000,)"
      ]
     },
     "execution_count": 30,
     "metadata": {},
     "output_type": "execute_result"
    }
   ],
   "source": [
    "%%time\n",
    "rmsd_2 = np.sqrt(\n",
    "    np.sum(\n",
    "        np.square(\n",
    "            coor_decode_2 * 10 - coor_encode * 10\n",
    "        ), axis=1\n",
    "    ) / (coor_encode.shape[1] // 3)\n",
    ")\n",
    "rmsd_2.shape"
   ]
  },
  {
   "cell_type": "code",
   "execution_count": 31,
   "metadata": {},
   "outputs": [
    {
     "data": {
      "text/plain": [
       "(2.3263113, 0.61213535, 1.1045452, 1.124304, 0.18762134)"
      ]
     },
     "execution_count": 31,
     "metadata": {},
     "output_type": "execute_result"
    }
   ],
   "source": [
    "rmsd_2.max(), rmsd_2.min(), np.median(rmsd_2), rmsd_2.mean(), rmsd_2.std()"
   ]
  },
  {
   "cell_type": "code",
   "execution_count": null,
   "metadata": {},
   "outputs": [],
   "source": []
  },
  {
   "cell_type": "code",
   "execution_count": 32,
   "metadata": {},
   "outputs": [],
   "source": [
    "pca = PCA(n_components=2)"
   ]
  },
  {
   "cell_type": "code",
   "execution_count": 164,
   "metadata": {},
   "outputs": [],
   "source": [
    "data_latent_2_pca = pca.fit_transform(data_latent_2)"
   ]
  },
  {
   "cell_type": "code",
   "execution_count": 34,
   "metadata": {},
   "outputs": [
    {
     "data": {
      "text/plain": [
       "array([0.6028291 , 0.39716882], dtype=float32)"
      ]
     },
     "execution_count": 34,
     "metadata": {},
     "output_type": "execute_result"
    }
   ],
   "source": [
    "pca.explained_variance_ratio_"
   ]
  },
  {
   "cell_type": "code",
   "execution_count": 35,
   "metadata": {},
   "outputs": [
    {
     "data": {
      "text/plain": [
       "array([112.618996,  91.411766], dtype=float32)"
      ]
     },
     "execution_count": 35,
     "metadata": {},
     "output_type": "execute_result"
    }
   ],
   "source": [
    "pca.singular_values_"
   ]
  },
  {
   "cell_type": "code",
   "execution_count": 36,
   "metadata": {},
   "outputs": [
    {
     "data": {
      "image/png": "[encoded data removed]",
      "text/plain": [
       "<Figure size 432x288 with 1 Axes>"
      ]
     },
     "metadata": {
      "needs_background": "light"
     },
     "output_type": "display_data"
    }
   ],
   "source": [
    "plt.scatter(data_latent_2_pca[:,0], data_latent_2_pca[:,1], s=0.01)\n",
    "plt.show()"
   ]
  },
  {
   "cell_type": "code",
   "execution_count": 165,
   "metadata": {},
   "outputs": [
    {
     "data": {
      "text/plain": [
       "array([[-5.8421972e-03, -2.5061308e-04, -7.0807117e-01,  7.0611703e-01],\n",
       "       [ 6.3703777e-03,  7.0746575e-04, -7.0614105e-01, -7.0804226e-01]],\n",
       "      dtype=float32)"
      ]
     },
     "execution_count": 165,
     "metadata": {},
     "output_type": "execute_result"
    }
   ],
   "source": [
    "pca.components_"
   ]
  },
  {
   "cell_type": "code",
   "execution_count": null,
   "metadata": {},
   "outputs": [],
   "source": []
  },
  {
   "cell_type": "code",
   "execution_count": 38,
   "metadata": {},
   "outputs": [
    {
     "data": {
      "text/plain": [
       "array([[ 3.96743781e-05,  2.81143139e-06,  7.43875746e-04,\n",
       "        -4.50077560e-03],\n",
       "       [ 2.81143161e-06,  1.32180423e-06, -9.61790283e-05,\n",
       "        -3.21503903e-04],\n",
       "       [ 7.43875746e-04, -9.61790356e-05,  5.26300132e-01,\n",
       "        -1.08175829e-01],\n",
       "       [-4.50077606e-03, -3.21503874e-04, -1.08175844e-01,\n",
       "         5.25671244e-01]], dtype=float32)"
      ]
     },
     "execution_count": 38,
     "metadata": {},
     "output_type": "execute_result"
    }
   ],
   "source": [
    "pca.get_covariance()"
   ]
  },
  {
   "cell_type": "code",
   "execution_count": 39,
   "metadata": {},
   "outputs": [
    {
     "data": {
      "text/plain": [
       "array([[ 9.3199794e+05, -5.5649619e+00,  3.3712115e+02,  8.0491001e+03],\n",
       "       [-5.5649624e+00,  9.3206706e+05,  3.0019662e+02,  6.3178687e+02],\n",
       "       [ 3.3712152e+02,  3.0019662e+02,  2.1875000e+00,  3.5061729e+00],\n",
       "       [ 8.0491001e+03,  6.3178680e+02,  3.5061729e+00,  7.1937500e+01]],\n",
       "      dtype=float32)"
      ]
     },
     "execution_count": 39,
     "metadata": {},
     "output_type": "execute_result"
    }
   ],
   "source": [
    "pca.get_precision()"
   ]
  },
  {
   "cell_type": "code",
   "execution_count": null,
   "metadata": {},
   "outputs": [],
   "source": []
  },
  {
   "cell_type": "code",
   "execution_count": 41,
   "metadata": {},
   "outputs": [
    {
     "data": {
      "text/plain": [
       "7.6602807"
      ]
     },
     "execution_count": 41,
     "metadata": {},
     "output_type": "execute_result"
    }
   ],
   "source": [
    "pca.score(data_latent_2)"
   ]
  },
  {
   "cell_type": "code",
   "execution_count": null,
   "metadata": {},
   "outputs": [],
   "source": []
  },
  {
   "cell_type": "code",
   "execution_count": null,
   "metadata": {},
   "outputs": [],
   "source": []
  },
  {
   "cell_type": "code",
   "execution_count": 107,
   "metadata": {},
   "outputs": [],
   "source": [
    "import statistics"
   ]
  },
  {
   "cell_type": "code",
   "execution_count": 112,
   "metadata": {},
   "outputs": [
    {
     "data": {
      "text/plain": [
       "3.891133068949403e-05"
      ]
     },
     "execution_count": 112,
     "metadata": {},
     "output_type": "execute_result"
    }
   ],
   "source": [
    "statistics.variance(data_latent_2[:,0].tolist())"
   ]
  },
  {
   "cell_type": "code",
   "execution_count": 113,
   "metadata": {},
   "outputs": [
    {
     "data": {
      "text/plain": [
       "4.3878746209377085e-06"
      ]
     },
     "execution_count": 113,
     "metadata": {},
     "output_type": "execute_result"
    }
   ],
   "source": [
    "statistics.variance(data_latent_2[:,1].tolist())"
   ]
  },
  {
   "cell_type": "code",
   "execution_count": 114,
   "metadata": {},
   "outputs": [
    {
     "data": {
      "text/plain": [
       "0.5263003757774288"
      ]
     },
     "execution_count": 114,
     "metadata": {},
     "output_type": "execute_result"
    }
   ],
   "source": [
    "statistics.variance(data_latent_2[:,2].tolist())"
   ]
  },
  {
   "cell_type": "code",
   "execution_count": 116,
   "metadata": {},
   "outputs": [
    {
     "data": {
      "text/plain": [
       "0.5256711400328862"
      ]
     },
     "execution_count": 116,
     "metadata": {},
     "output_type": "execute_result"
    }
   ],
   "source": [
    "statistics.variance(data_latent_2[:,3].tolist())"
   ]
  },
  {
   "cell_type": "code",
   "execution_count": null,
   "metadata": {},
   "outputs": [],
   "source": []
  },
  {
   "cell_type": "code",
   "execution_count": null,
   "metadata": {},
   "outputs": [],
   "source": []
  },
  {
   "cell_type": "code",
   "execution_count": 20,
   "metadata": {},
   "outputs": [],
   "source": [
    "########## Build VAE ##########"
   ]
  },
  {
   "cell_type": "code",
   "execution_count": 21,
   "metadata": {},
   "outputs": [
    {
     "data": {
      "text/plain": [
       "[1024, 256, 64, 16]"
      ]
     },
     "execution_count": 21,
     "metadata": {},
     "output_type": "execute_result"
    }
   ],
   "source": [
    "# hidden layers\n",
    "hidden_layers = [5]\n",
    "while len(hidden_layers) <= LAYERS:\n",
    "    hidden_layers.append(hidden_layers[-1] * 4\n",
    "                         if hidden_layers[-1] * 4 <= coor_encode_scaled.shape[1]\n",
    "                         else coor_encode_scaled.shape[1])\n",
    "hidden_layers = hidden_layers[::-1]\n",
    "hidden_layers.pop()\n",
    "hidden_layers\n",
    "input_dim = (coor_encode_scaled.shape[1],)\n",
    "encoder_3, decoder_3, model_3 = vae.build_vae(input_dim, hidden_layers, latent_dim=5)\n",
    "print(encoder_3.summary())"
   ]
  },
  {
   "cell_type": "code",
   "execution_count": 24,
   "metadata": {},
   "outputs": [
    {
     "name": "stdout",
     "output_type": "stream",
     "text": [
      "CPU times: user 1min 48s, sys: 21.8 s, total: 2min 10s\n",
      "Wall time: 1min 5s\n"
     ]
    }
   ],
   "source": [
    "%%time\n",
    "history_3 = model_3.fit(\n",
    "    x=coor_encode_scaled,\n",
    "    y=coor_encode_scaled,\n",
    "    shuffle=True,\n",
    "    epochs=EPOCHS,\n",
    "    verbose=0,\n",
    "    batch_size=BATCH_SIZE)"
   ]
  },
  {
   "cell_type": "code",
   "execution_count": 25,
   "metadata": {},
   "outputs": [
    {
     "data": {
      "image/png": "[encoded data removed]",
      "text/plain": [
       "<Figure size 432x288 with 1 Axes>"
      ]
     },
     "metadata": {
      "needs_background": "light"
     },
     "output_type": "display_data"
    }
   ],
   "source": [
    "import matplotlib.pyplot as plt\n",
    "plt.plot(list(range(1,len(history_3.history['loss'])+1)), [x/1806 for x in history_3.history['loss']])\n",
    "plt.show()"
   ]
  },
  {
   "cell_type": "code",
   "execution_count": 26,
   "metadata": {},
   "outputs": [
    {
     "data": {
      "text/plain": [
       "(20000, 4)"
      ]
     },
     "execution_count": 26,
     "metadata": {},
     "output_type": "execute_result"
    }
   ],
   "source": [
    "data_latent_3 = encoder_3.predict(coor_encode_scaled)[0]\n",
    "data_latent_3.shape"
   ]
  },
  {
   "cell_type": "code",
   "execution_count": 27,
   "metadata": {},
   "outputs": [
    {
     "data": {
      "text/plain": [
       "array([[ 0.00425222,  0.00398343, -0.5590763 , -0.01463479],\n",
       "       [ 0.00350997,  0.00367815, -0.4855954 ,  0.06900708],\n",
       "       [ 0.00386908,  0.00323127, -0.43729293,  0.02149516],\n",
       "       [ 0.00399213,  0.0038385 , -0.20156693,  0.01008755],\n",
       "       [ 0.00448383,  0.00137666, -0.14557153, -0.08238578],\n",
       "       [ 0.00386092,  0.00358917, -0.1757654 ,  0.02595103],\n",
       "       [ 0.00493364,  0.00190642, -0.15250522, -0.12584656],\n",
       "       [ 0.00400994,  0.00353682, -0.13060617,  0.00649041],\n",
       "       [ 0.00395006,  0.00296889, -0.3127421 ,  0.00729394],\n",
       "       [ 0.00368297,  0.00239249, -0.23536038,  0.03021172]],\n",
       "      dtype=float32)"
      ]
     },
     "execution_count": 27,
     "metadata": {},
     "output_type": "execute_result"
    }
   ],
   "source": [
    "data_latent_3[:10]"
   ]
  },
  {
   "cell_type": "code",
   "execution_count": 28,
   "metadata": {
    "scrolled": true
   },
   "outputs": [
    {
     "data": {
      "text/plain": [
       "(20000, 1806)"
      ]
     },
     "execution_count": 28,
     "metadata": {},
     "output_type": "execute_result"
    }
   ],
   "source": [
    "coor_decode_scaled_3 = decoder_3(data_latent_3).numpy()\n",
    "coor_decode_scaled_3.shape"
   ]
  },
  {
   "cell_type": "code",
   "execution_count": 29,
   "metadata": {},
   "outputs": [
    {
     "data": {
      "text/plain": [
       "(20000, 1806)"
      ]
     },
     "execution_count": 29,
     "metadata": {},
     "output_type": "execute_result"
    }
   ],
   "source": [
    "coor_decode_3 = scaler.inverse_transform(coor_decode_scaled_3)\n",
    "coor_decode_3.shape"
   ]
  },
  {
   "cell_type": "code",
   "execution_count": 30,
   "metadata": {},
   "outputs": [
    {
     "name": "stdout",
     "output_type": "stream",
     "text": [
      "CPU times: user 148 ms, sys: 134 ms, total: 282 ms\n",
      "Wall time: 279 ms\n"
     ]
    },
    {
     "data": {
      "text/plain": [
       "(20000,)"
      ]
     },
     "execution_count": 30,
     "metadata": {},
     "output_type": "execute_result"
    }
   ],
   "source": [
    "%%time\n",
    "rmsd_3 = np.sqrt(\n",
    "    np.sum(\n",
    "        np.square(\n",
    "            coor_decode_3 * 10 - coor_encode * 10\n",
    "        ), axis=1\n",
    "    ) / (coor_encode.shape[1] // 3)\n",
    ")\n",
    "rmsd_3.shape"
   ]
  },
  {
   "cell_type": "code",
   "execution_count": 170,
   "metadata": {},
   "outputs": [
    {
     "data": {
      "text/plain": [
       "(1.7515129, 0.55815834, 0.90314966, 0.926184, 0.16164595)"
      ]
     },
     "execution_count": 170,
     "metadata": {},
     "output_type": "execute_result"
    }
   ],
   "source": [
    "rmsd_3.max(), rmsd_3.min(), np.median(rmsd_3), rmsd_3.mean(), rmsd_3.std()"
   ]
  },
  {
   "cell_type": "code",
   "execution_count": 153,
   "metadata": {},
   "outputs": [],
   "source": [
    "pca_5 = PCA(n_components=2)"
   ]
  },
  {
   "cell_type": "code",
   "execution_count": 166,
   "metadata": {},
   "outputs": [],
   "source": [
    "data_latent_3_pca = pca_5.fit_transform(data_latent_3)"
   ]
  },
  {
   "cell_type": "code",
   "execution_count": 167,
   "metadata": {},
   "outputs": [
    {
     "data": {
      "text/plain": [
       "array([[-5.53396881e-01,  2.59369668e-02,  6.27274692e-01,\n",
       "        -5.47360003e-01,  1.64906320e-03],\n",
       "       [-6.10411882e-01, -4.66036081e-01, -6.28188908e-01,\n",
       "        -1.24845006e-01, -4.51359985e-04]], dtype=float32)"
      ]
     },
     "execution_count": 167,
     "metadata": {},
     "output_type": "execute_result"
    }
   ],
   "source": [
    "pca_5.components_"
   ]
  },
  {
   "cell_type": "code",
   "execution_count": 168,
   "metadata": {},
   "outputs": [
    {
     "data": {
      "text/plain": [
       "array([[-5.8421972e-03, -2.5061308e-04, -7.0807117e-01,  7.0611703e-01],\n",
       "       [ 6.3703777e-03,  7.0746575e-04, -7.0614105e-01, -7.0804226e-01]],\n",
       "      dtype=float32)"
      ]
     },
     "execution_count": 168,
     "metadata": {},
     "output_type": "execute_result"
    }
   ],
   "source": [
    "pca.components_"
   ]
  },
  {
   "cell_type": "code",
   "execution_count": 169,
   "metadata": {},
   "outputs": [],
   "source": [
    "np.savez(\n",
    "    'ubq_dim245.npz',\n",
    "    data_latent_1=data_latent_1,\n",
    "    rmsd_1=rmsd_1,\n",
    "    data_latent_2=data_latent_2,\n",
    "    rmsd_2=rmsd_2,\n",
    "    data_latent_2_pca=data_latent_2_pca,\n",
    "    pca_2_components=pca.components_,\n",
    "    data_latent_3=data_latent_3,\n",
    "    rmsd_3=rmsd_3,\n",
    "    data_latent_3_pca=data_latent_3_pca,\n",
    "    pca_3_components=pca_5.components_\n",
    ")"
   ]
  },
  {
   "cell_type": "code",
   "execution_count": null,
   "metadata": {},
   "outputs": [],
   "source": []
  }
 ],
 "metadata": {
  "kernelspec": {
   "display_name": "1.ae_benchmark",
   "language": "python",
   "name": "1.ae_benchmark"
  },
  "language_info": {
   "codemirror_mode": {
    "name": "ipython",
    "version": 3
   },
   "file_extension": ".py",
   "mimetype": "text/x-python",
   "name": "python",
   "nbconvert_exporter": "python",
   "pygments_lexer": "ipython3",
   "version": "3.9.7"
  }
 },
 "nbformat": 4,
 "nbformat_minor": 2
}
